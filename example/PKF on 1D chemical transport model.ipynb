{
 "cells": [
  {
   "cell_type": "markdown",
   "metadata": {
    "slideshow": {
     "slide_type": "slide"
    }
   },
   "source": [
    "O. Pannekoucke$^{1,2,3}$\n",
    "\n",
    "$^1$ INPT-ENM, Toulouse, France\n",
    "\n",
    "$^2$ CNRM, Université de Toulouse, Météo-France, CNRS, Toulouse, France\n",
    "\n",
    "$^3$ CERFACS, Toulouse, France\n",
    "\n",
    "(olivier.pannekoucke@meteo.fr)"
   ]
  },
  {
   "cell_type": "markdown",
   "metadata": {
    "slideshow": {
     "slide_type": "subslide"
    }
   },
   "source": [
    "**Abstract**\n",
    "\n",
    "This notebook illustrates the use of sympkf to build and handle the PKF dynamics associated with the transport of two chemical species over a 1D domain, and in the case of a periodic chemical reaction. Hence, the dynamics reads as \n",
    "$$\\left\\{\\begin{array}{c}\n",
    "\\partial_t A +u\\partial_x A =B\\\\\n",
    "\\partial_t B +u\\partial_x B =-A\n",
    "\\end{array}\\right.$$\n",
    "where $A$ and $B$ are functions of $t,x$, and $u(x)$ is a stationnary wind.\n",
    "\n",
    "Thanks to the splitting strategy, the PKF is first applied in 0D on the periodic reaction, than on the full dynamics."
   ]
  },
  {
   "cell_type": "markdown",
   "metadata": {},
   "source": [
    "# Definition of the 1D multivariate dynamics"
   ]
  },
  {
   "cell_type": "code",
   "execution_count": null,
   "metadata": {
    "ExecuteTime": {
     "end_time": "2018-10-03T09:05:22.911943Z",
     "start_time": "2018-10-03T09:05:22.699109Z"
    }
   },
   "outputs": [],
   "source": [
    "import sympy\n",
    "sympy.init_printing() "
   ]
  },
  {
   "cell_type": "markdown",
   "metadata": {},
   "source": [
    "**Definition of the dynamics from sympy tools**"
   ]
  },
  {
   "cell_type": "code",
   "execution_count": null,
   "metadata": {},
   "outputs": [],
   "source": [
    "from sympy import Function, Derivative, Eq, symbols\n",
    "from sympkf import SymbolicPKF, t"
   ]
  },
  {
   "cell_type": "code",
   "execution_count": null,
   "metadata": {},
   "outputs": [],
   "source": [
    "x = symbols('x')\n",
    "u = Function('u')(x)\n",
    "A = Function('A')(t,x)\n",
    "B = Function('B')(t,x)"
   ]
  },
  {
   "cell_type": "markdown",
   "metadata": {},
   "source": [
    "# 0D periodic chemical reaction"
   ]
  },
  {
   "cell_type": "code",
   "execution_count": null,
   "metadata": {},
   "outputs": [],
   "source": [
    "# definition of the dynamics\n",
    "dynamics = [Eq(Derivative(A,t), B), Eq(Derivative(B,t),-A)]\n",
    "dynamics"
   ]
  },
  {
   "cell_type": "code",
   "execution_count": null,
   "metadata": {},
   "outputs": [],
   "source": [
    "pkf_dynamics = SymbolicPKF(dynamics)"
   ]
  },
  {
   "cell_type": "code",
   "execution_count": null,
   "metadata": {},
   "outputs": [],
   "source": [
    "for equation in pkf_dynamics.in_metric:    \n",
    "    #display(equation.subs(pkf_dynamics.internal_closure)) \n",
    "    display(equation)"
   ]
  },
  {
   "cell_type": "markdown",
   "metadata": {},
   "source": [
    "# 1D transport of a periodic chemical reaction"
   ]
  },
  {
   "cell_type": "code",
   "execution_count": null,
   "metadata": {},
   "outputs": [],
   "source": [
    "# Definition of the dynamics\n",
    "dynamics = [Eq(Derivative(A,t),-u*Derivative(A,x)+ B), Eq(Derivative(B,t), -u*Derivative(B,x)-A)]\n",
    "dynamics"
   ]
  },
  {
   "cell_type": "code",
   "execution_count": null,
   "metadata": {},
   "outputs": [],
   "source": [
    "pkf_dynamics = SymbolicPKF(dynamics)"
   ]
  },
  {
   "cell_type": "code",
   "execution_count": null,
   "metadata": {},
   "outputs": [],
   "source": [
    "for equation in pkf_dynamics.in_metric:    \n",
    "    #display(equation.subs(pkf_dynamics.internal_closure)) \n",
    "    display(equation)"
   ]
  },
  {
   "cell_type": "code",
   "execution_count": null,
   "metadata": {},
   "outputs": [],
   "source": [
    "for equation in pkf_dynamics.in_metric:    \n",
    "    display(equation.subs(pkf_dynamics.internal_closure))     "
   ]
  },
  {
   "cell_type": "code",
   "execution_count": null,
   "metadata": {},
   "outputs": [],
   "source": [
    "for equation in pkf_dynamics.in_aspect:    display(equation)"
   ]
  }
 ],
 "metadata": {
  "celltoolbar": "Slideshow",
  "kernelspec": {
   "display_name": "Python 3",
   "language": "python",
   "name": "python3"
  },
  "language_info": {
   "codemirror_mode": {
    "name": "ipython",
    "version": 3
   },
   "file_extension": ".py",
   "mimetype": "text/x-python",
   "name": "python",
   "nbconvert_exporter": "python",
   "pygments_lexer": "ipython3",
   "version": "3.7.7"
  },
  "toc": {
   "nav_menu": {
    "height": "244px",
    "width": "212px"
   },
   "number_sections": true,
   "sideBar": true,
   "skip_h1_title": true,
   "toc_cell": false,
   "toc_position": {},
   "toc_section_display": "block",
   "toc_window_display": false
  }
 },
 "nbformat": 4,
 "nbformat_minor": 4
}
