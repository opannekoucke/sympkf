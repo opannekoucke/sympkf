{
 "cells": [
  {
   "cell_type": "markdown",
   "metadata": {
    "slideshow": {
     "slide_type": "slide"
    }
   },
   "source": [
    "O. Pannekoucke$^{1,2,3}$\n",
    "\n",
    "$^1$ INPT-ENM, Toulouse, France\n",
    "\n",
    "$^2$ CNRM, Université de Toulouse, Météo-France, CNRS, Toulouse, France\n",
    "\n",
    "$^3$ CERFACS, Toulouse, France\n",
    "\n",
    "(olivier.pannekoucke@meteo.fr)"
   ]
  },
  {
   "cell_type": "markdown",
   "metadata": {
    "slideshow": {
     "slide_type": "subslide"
    }
   },
   "source": [
    "**Abstract**\n",
    "\n",
    "This notebook illustrates the use of sympkf to build and handle the PKF dynamics associated with the harmonic oscillator as 2D fields given by\n",
    "$$\\left\\{\\begin{array}{c}\n",
    "\\partial_t u =-v\\\\\n",
    "\\partial_t v =u\n",
    "\\end{array}\\right.$$\n",
    "where $u$ and $v$ are functions of $t,x$.\n",
    "For this dynamics, the resulting PKF system is not closed because of the cros-correlation."
   ]
  },
  {
   "cell_type": "markdown",
   "metadata": {},
   "source": [
    "# Definition of the 1D multivariate dynamics"
   ]
  },
  {
   "cell_type": "code",
   "execution_count": null,
   "metadata": {
    "ExecuteTime": {
     "end_time": "2018-10-03T09:05:22.911943Z",
     "start_time": "2018-10-03T09:05:22.699109Z"
    }
   },
   "outputs": [],
   "source": [
    "import sympy\n",
    "sympy.init_printing() "
   ]
  },
  {
   "cell_type": "markdown",
   "metadata": {},
   "source": [
    "**Definition of the dynamics from sympy tools**"
   ]
  },
  {
   "cell_type": "code",
   "execution_count": null,
   "metadata": {},
   "outputs": [],
   "source": [
    "from sympy import Function, Derivative, Eq, symbols\n",
    "from sympkf import SymbolicPKF, t"
   ]
  },
  {
   "cell_type": "code",
   "execution_count": null,
   "metadata": {},
   "outputs": [],
   "source": [
    "x  = symbols('x')\n",
    "u = Function('u')(t,x)\n",
    "v = Function('v')(t,x)\n",
    "dynamics = [Eq(Derivative(u,t), -v), Eq(Derivative(v,t), u)]\n",
    "dynamics"
   ]
  },
  {
   "cell_type": "markdown",
   "metadata": {},
   "source": [
    "# Computation of the PKF dynamics by using SymPKF"
   ]
  },
  {
   "cell_type": "code",
   "execution_count": null,
   "metadata": {},
   "outputs": [],
   "source": [
    "pkf_dynamics = SymbolicPKF(dynamics)"
   ]
  },
  {
   "cell_type": "code",
   "execution_count": null,
   "metadata": {},
   "outputs": [],
   "source": [
    "for equation in pkf_dynamics.in_metric:    display(equation)"
   ]
  },
  {
   "cell_type": "code",
   "execution_count": null,
   "metadata": {},
   "outputs": [],
   "source": [
    "for equation in pkf_dynamics.in_aspect:    display(equation)"
   ]
  },
  {
   "cell_type": "code",
   "execution_count": null,
   "metadata": {},
   "outputs": [],
   "source": [
    "pkf_dynamics.internal_closure"
   ]
  }
 ],
 "metadata": {
  "celltoolbar": "Slideshow",
  "kernelspec": {
   "display_name": "Python 3",
   "language": "python",
   "name": "python3"
  },
  "language_info": {
   "codemirror_mode": {
    "name": "ipython",
    "version": 3
   },
   "file_extension": ".py",
   "mimetype": "text/x-python",
   "name": "python",
   "nbconvert_exporter": "python",
   "pygments_lexer": "ipython3",
   "version": "3.7.7"
  },
  "toc": {
   "nav_menu": {
    "height": "244px",
    "width": "212px"
   },
   "number_sections": true,
   "sideBar": true,
   "skip_h1_title": true,
   "toc_cell": false,
   "toc_position": {},
   "toc_section_display": "block",
   "toc_window_display": false
  }
 },
 "nbformat": 4,
 "nbformat_minor": 4
}
