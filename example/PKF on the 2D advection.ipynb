{
 "cells": [
  {
   "cell_type": "markdown",
   "metadata": {
    "slideshow": {
     "slide_type": "slide"
    }
   },
   "source": [
    "O. Pannekoucke$^{1,2,3}$\n",
    "\n",
    "$^1$ INPT-ENM, Toulouse, France\n",
    "\n",
    "$^2$ CNRM, Université de Toulouse, Météo-France, CNRS, Toulouse, France\n",
    "\n",
    "$^3$ CERFACS, Toulouse, France\n",
    "\n",
    "(olivier.pannekoucke@meteo.fr)"
   ]
  },
  {
   "cell_type": "markdown",
   "metadata": {
    "slideshow": {
     "slide_type": "subslide"
    }
   },
   "source": [
    "**Abstract**\n",
    "\n",
    "This notebook illustrates the use of sympkf to build and handle the PKF dynamics associated with the advection in 2D \n",
    "$$\n",
    "        \\partial_t c +\\mathbf{u}\\nabla c = 0,\n",
    "$$\n",
    "where $c$ is a function $t,x,y$ and  $\\mathbf{u}=(u(x,y), v(x,y))$ is the stationnary velocity field.\n",
    "\n",
    "For this dynamics, the resulting PKF system is closed and reads as (in aspect tensor form) \n",
    "$$\n",
    "        \\left\\{\n",
    "        \\begin{array}{l}\n",
    "        \\partial_t c +\\mathbf{u}\\nabla c = 0,\\\\\n",
    "        \\partial_t V_c +\\mathbf{u}\\nabla V_c = 0,\\\\\n",
    "        \\partial_t \\mathbf{s}_c +\\mathbf{u}\\nabla\\mathbf{s}_c = \n",
    "            \\left(\\nabla\\mathbf{u}\\right) \\mathbf{s}_c+ \\mathbf{s}_c\\left(\\nabla\\mathbf{u}\\right)^T.\n",
    "        \\end{array}\n",
    "        \\right .\n",
    "$$"
   ]
  },
  {
   "cell_type": "markdown",
   "metadata": {},
   "source": [
    "# Definition of the 2D advection equation"
   ]
  },
  {
   "cell_type": "code",
   "execution_count": null,
   "metadata": {
    "ExecuteTime": {
     "end_time": "2018-10-03T09:05:22.911943Z",
     "start_time": "2018-10-03T09:05:22.699109Z"
    }
   },
   "outputs": [],
   "source": [
    "import sympy\n",
    "sympy.init_printing() "
   ]
  },
  {
   "cell_type": "markdown",
   "metadata": {},
   "source": [
    "**Definition of the dynamics from sympy tools**"
   ]
  },
  {
   "cell_type": "code",
   "execution_count": null,
   "metadata": {
    "ExecuteTime": {
     "end_time": "2018-10-03T09:05:22.911943Z",
     "start_time": "2018-10-03T09:05:22.699109Z"
    }
   },
   "outputs": [],
   "source": [
    "import sympy\n",
    "from sympy import init_printing\n",
    "init_printing() "
   ]
  },
  {
   "cell_type": "code",
   "execution_count": null,
   "metadata": {},
   "outputs": [],
   "source": [
    "from sympy import Function, Derivative, Eq, symbols\n",
    "from sympkf import t\n",
    "x, y = symbols('x y')\n",
    "c = Function('c')(t,x,y)\n",
    "u = Function('u')(x,y)\n",
    "v = Function('v')(x,y)\n",
    "dynamics = [\n",
    "    Eq(Derivative(c,t), u*Derivative(c,x)+v*Derivative(c,y)),    \n",
    "]\n",
    "display(dynamics)"
   ]
  },
  {
   "cell_type": "code",
   "execution_count": null,
   "metadata": {},
   "outputs": [],
   "source": [
    "from sympkf import PDESystem\n",
    "dynamics = PDESystem(dynamics)"
   ]
  },
  {
   "cell_type": "markdown",
   "metadata": {},
   "source": [
    "# Computation of the PKF dynamics by using SymPKF"
   ]
  },
  {
   "cell_type": "code",
   "execution_count": null,
   "metadata": {},
   "outputs": [],
   "source": [
    "from sympkf.symbolic import SymbolicPKF\n",
    "pkf_advection = SymbolicPKF(dynamics)"
   ]
  },
  {
   "cell_type": "code",
   "execution_count": null,
   "metadata": {},
   "outputs": [],
   "source": [
    "for equation in pkf_advection.in_metric:    display(equation)"
   ]
  },
  {
   "cell_type": "code",
   "execution_count": null,
   "metadata": {},
   "outputs": [],
   "source": [
    "for equation in pkf_advection.in_aspect:    display(equation)"
   ]
  },
  {
   "cell_type": "markdown",
   "metadata": {
    "slideshow": {
     "slide_type": "skip"
    }
   },
   "source": [
    "## Conclusion <a id='conclusion'/>"
   ]
  },
  {
   "cell_type": "markdown",
   "metadata": {},
   "source": [
    "We found that the PKF dynamics for advection dynamics is the closed system given by\n",
    "$$\n",
    "        \\left\\{\n",
    "        \\begin{array}{l}\n",
    "        \\partial_t c +\\mathbf{u}\\nabla c = 0,\\\\\n",
    "        \\partial_t V_c +\\mathbf{u}\\nabla V_c = 0,\\\\\n",
    "        \\partial_t \\mathbf{s}_c +\\mathbf{u}\\nabla\\mathbf{s}_c = \n",
    "            \\left(\\nabla\\mathbf{u}\\right) \\mathbf{s}_c+ \\mathbf{s}_c\\left(\\nabla\\mathbf{u}\\right)^T.\n",
    "        \\end{array}\n",
    "        \\right .\n",
    "$$\n",
    "Which also reads as \n",
    "$$\n",
    "\\left\\{\n",
    "\\begin{array}{l}\n",
    "\\displaystyle \\frac{\\partial}{\\partial t} c{\\left(t,x,y \\right)} = - u{\\left(x,y \\right)} \\frac{\\partial}{\\partial x} c{\\left(t,x,y \\right)} - v{\\left(x,y \\right)} \\frac{\\partial}{\\partial y} c{\\left(t,x,y \\right)},\\\\\n",
    "\\displaystyle \\frac{\\partial}{\\partial t} \\operatorname{{V_{c}}}{\\left(t,x,y \\right)} = - u{\\left(x,y \\right)} \\frac{\\partial}{\\partial x} \\operatorname{{V_{c}}}{\\left(t,x,y \\right)} - v{\\left(x,y \\right)} \\frac{\\partial}{\\partial y} \\operatorname{{V_{c}}}{\\left(t,x,y \\right)},\\\\\n",
    "\\displaystyle \\frac{\\partial}{\\partial t} \\operatorname{{s_{c,xx}}}{\\left(t,x,y \\right)} = - u{\\left(x,y \\right)} \\frac{\\partial}{\\partial x} \\operatorname{{s_{c,xx}}}{\\left(t,x,y \\right)} - v{\\left(x,y \\right)} \\frac{\\partial}{\\partial y} \\operatorname{{s_{c,xx}}}{\\left(t,x,y \\right)} + 2 \\operatorname{{s_{c,xx}}}{\\left(t,x,y \\right)} \\frac{\\partial}{\\partial x} u{\\left(x,y \\right)} + 2 \\operatorname{{s_{c,xy}}}{\\left(t,x,y \\right)} \\frac{\\partial}{\\partial y} u{\\left(x,y \\right)}\\\\\n",
    "\\displaystyle \\frac{\\partial}{\\partial t} \\operatorname{{s_{c,xy}}}{\\left(t,x,y \\right)} = - u{\\left(x,y \\right)} \\frac{\\partial}{\\partial x} \\operatorname{{s_{c,xy}}}{\\left(t,x,y \\right)} - v{\\left(x,y \\right)} \\frac{\\partial}{\\partial y} \\operatorname{{s_{c,xy}}}{\\left(t,x,y \\right)} + \\operatorname{{s_{c,xx}}}{\\left(t,x,y \\right)} \\frac{\\partial}{\\partial x} v{\\left(x,y \\right)} + \\operatorname{{s_{c,xy}}}{\\left(t,x,y \\right)} \\frac{\\partial}{\\partial x} u{\\left(x,y \\right)} + \\operatorname{{s_{c,xy}}}{\\left(t,x,y \\right)} \\frac{\\partial}{\\partial y} v{\\left(x,y \\right)} + \\operatorname{{s_{c,yy}}}{\\left(t,x,y \\right)} \\frac{\\partial}{\\partial y} u{\\left(x,y \\right)},\\\\\n",
    "\\displaystyle \\frac{\\partial}{\\partial t} \\operatorname{{s_{c,yy}}}{\\left(t,x,y \\right)} = - u{\\left(x,y \\right)} \\frac{\\partial}{\\partial x} \\operatorname{{s_{c,yy}}}{\\left(t,x,y \\right)} - v{\\left(x,y \\right)} \\frac{\\partial}{\\partial y} \\operatorname{{s_{c,yy}}}{\\left(t,x,y \\right)} + 2 \\operatorname{{s_{c,xy}}}{\\left(t,x,y \\right)} \\frac{\\partial}{\\partial x} v{\\left(x,y \\right)} + 2 \\operatorname{{s_{c,yy}}}{\\left(t,x,y \\right)} \\frac{\\partial}{\\partial y} v{\\left(x,y \\right)}.\n",
    "\\end{array}\n",
    "\\right. \n",
    "$$   "
   ]
  }
 ],
 "metadata": {
  "celltoolbar": "Slideshow",
  "kernelspec": {
   "display_name": "Python 3",
   "language": "python",
   "name": "python3"
  },
  "language_info": {
   "codemirror_mode": {
    "name": "ipython",
    "version": 3
   },
   "file_extension": ".py",
   "mimetype": "text/x-python",
   "name": "python",
   "nbconvert_exporter": "python",
   "pygments_lexer": "ipython3",
   "version": "3.7.7"
  },
  "toc": {
   "nav_menu": {
    "height": "244px",
    "width": "212px"
   },
   "number_sections": true,
   "sideBar": true,
   "skip_h1_title": true,
   "toc_cell": false,
   "toc_position": {},
   "toc_section_display": "block",
   "toc_window_display": false
  }
 },
 "nbformat": 4,
 "nbformat_minor": 4
}
